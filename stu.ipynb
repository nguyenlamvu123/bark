{
 "cells": [
  {
   "cell_type": "code",
   "execution_count": 1,
   "id": "87766072-5966-4e5c-a237-9d3e595bee6d",
   "metadata": {},
   "outputs": [
    {
     "name": "stderr",
     "output_type": "stream",
     "text": [
      "No GPU being used. Careful, inference might be very slow!\n",
      "/home/zaibachkhoa/Documents/bark/venv/lib/python3.10/site-packages/huggingface_hub/file_download.py:1132: FutureWarning: `resume_download` is deprecated and will be removed in version 1.0.0. Downloads always resume when possible. If you want to force a new download, use `force_download=True`.\n",
      "  warnings.warn(\n",
      "/home/zaibachkhoa/Documents/bark/venv/lib/python3.10/site-packages/torch/nn/utils/weight_norm.py:28: UserWarning: torch.nn.utils.weight_norm is deprecated in favor of torch.nn.utils.parametrizations.weight_norm.\n",
      "  warnings.warn(\"torch.nn.utils.weight_norm is deprecated in favor of torch.nn.utils.parametrizations.weight_norm.\")\n"
     ]
    }
   ],
   "source": [
    "from bark import SAMPLE_RATE, generate_audio, preload_models\n",
    "from scipy.io.wavfile import write as write_wav\n",
    "\n",
    "# download and load all models\n",
    "preload_models()"
   ]
  },
  {
   "cell_type": "code",
   "execution_count": 1,
   "id": "8714e519-0fdb-462a-8bc1-b9b111a07b6c",
   "metadata": {},
   "outputs": [
    {
     "name": "stderr",
     "output_type": "stream",
     "text": [
      "/home/zaibachkhoa/Documents/bark/venv/lib/python3.10/site-packages/huggingface_hub/file_download.py:1132: FutureWarning: `resume_download` is deprecated and will be removed in version 1.0.0. Downloads always resume when possible. If you want to force a new download, use `force_download=True`.\n",
      "  warnings.warn(\n",
      "/home/zaibachkhoa/Documents/bark/venv/lib/python3.10/site-packages/torch/nn/utils/weight_norm.py:28: UserWarning: torch.nn.utils.weight_norm is deprecated in favor of torch.nn.utils.parametrizations.weight_norm.\n",
      "  warnings.warn(\"torch.nn.utils.weight_norm is deprecated in favor of torch.nn.utils.parametrizations.weight_norm.\")\n",
      "/home/zaibachkhoa/Documents/bark/venv/lib/python3.10/site-packages/transformers/models/encodec/modeling_encodec.py:123: UserWarning: To copy construct from a tensor, it is recommended to use sourceTensor.clone().detach() or sourceTensor.clone().detach().requires_grad_(True), rather than torch.tensor(sourceTensor).\n",
      "  self.register_buffer(\"padding_total\", torch.tensor(kernel_size - stride, dtype=torch.int64), persistent=False)\n"
     ]
    }
   ],
   "source": [
    "# https://colab.research.google.com/drive/1dWWkZzvu7L9Bunq9zvD-W02RFUXoW-Pd?usp=sharing#scrollTo=cWuW8SdgcO_Q\n",
    "from transformers import AutoProcessor, BarkModel\n",
    "import torch, os\n",
    "import scipy\n",
    "\n",
    "device = \"cuda:0\" if torch.cuda.is_available() else \"cpu\"\n",
    "\n",
    "processor = AutoProcessor.from_pretrained(\"suno/bark\")\n",
    "model = BarkModel.from_pretrained(\"suno/bark\")\n",
    "# model = BarkModel.from_pretrained(\"suno/bark-small\")\n",
    "model = model.to(device)\n",
    "\n",
    "voice_preset = \"v2/en_speaker_5\""
   ]
  },
  {
   "cell_type": "code",
   "execution_count": 6,
   "id": "09e6e199-f0e4-4fb7-a5fd-317e97b1096e",
   "metadata": {},
   "outputs": [
    {
     "name": "stderr",
     "output_type": "stream",
     "text": [
      "100%|█████████████████████████████████████████| 374/374 [00:30<00:00, 12.35it/s]\n",
      "100%|███████████████████████████████████████████| 19/19 [02:00<00:00,  6.36s/it]\n"
     ]
    }
   ],
   "source": [
    "# Py_Bark\n",
    "text_prompt = \"Hanoi is nicest at the night\"\n",
    "text_prompt = f\"♪ {text_prompt} ♪\"\n",
    "audio_array = generate_audio(text_prompt)\n",
    "\n",
    "# save audio to disk\n",
    "write_wav(\"Py_Bark.wav\", SAMPLE_RATE, audio_array)"
   ]
  },
  {
   "cell_type": "code",
   "execution_count": 10,
   "id": "8749c996-b51c-4685-8c9e-c804d7d03c4b",
   "metadata": {},
   "outputs": [
    {
     "name": "stderr",
     "output_type": "stream",
     "text": [
      "The attention mask and the pad token id were not set. As a consequence, you may observe unexpected behavior. Please pass your input's `attention_mask` to obtain reliable results.\n",
      "Setting `pad_token_id` to `eos_token_id`:10000 for open-end generation.\n"
     ]
    }
   ],
   "source": [
    "# Py_Transformers\n",
    "inputs = processor(\n",
    "    \"\"\"\n",
    "         ♪ Hanoi is nicest at the night ♪\n",
    "    \"\"\",\n",
    "    # voice_preset=voice_preset\n",
    ")\n",
    "# inputs = processor(\"[clears throat] Hello uh ..., my dog is cute [laughter]\")\n",
    "# # https://sunoaiwiki.com/en/resources/2024-05-13-list-of-metatags/\n",
    "\n",
    "audio_array = model.generate(\n",
    "    **inputs.to(device),\n",
    "    length_penalty=2.2,\n",
    "    num_beams=2,\n",
    "    # # temperature=0.5,\n",
    "    # # semantic_temperature=0.8,\n",
    ")\n",
    "audio_array = audio_array.cpu().numpy().squeeze()\n",
    "\n",
    "sample_rate = model.generation_config.sample_rate\n",
    "scipy.io.wavfile.write(\"Py_Transformers.wav\", rate=sample_rate, data=audio_array)"
   ]
  }
 ],
 "metadata": {
  "kernelspec": {
   "display_name": "Python 3 (ipykernel)",
   "language": "python",
   "name": "python3"
  },
  "language_info": {
   "codemirror_mode": {
    "name": "ipython",
    "version": 3
   },
   "file_extension": ".py",
   "mimetype": "text/x-python",
   "name": "python",
   "nbconvert_exporter": "python",
   "pygments_lexer": "ipython3",
   "version": "3.10.12"
  }
 },
 "nbformat": 4,
 "nbformat_minor": 5
}
